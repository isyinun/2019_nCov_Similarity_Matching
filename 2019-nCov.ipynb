{
 "cells": [
  {
   "cell_type": "code",
   "execution_count": 46,
   "metadata": {
    "ExecuteTime": {
     "end_time": "2020-02-21T08:53:08.976094Z",
     "start_time": "2020-02-21T08:53:08.973130Z"
    }
   },
   "outputs": [],
   "source": [
    "import numpy as np\n",
    "import pandas as pd"
   ]
  },
  {
   "cell_type": "code",
   "execution_count": 47,
   "metadata": {
    "ExecuteTime": {
     "end_time": "2020-02-21T08:53:09.160631Z",
     "start_time": "2020-02-21T08:53:09.128686Z"
    }
   },
   "outputs": [
    {
     "data": {
      "text/html": [
       "<div>\n",
       "<style scoped>\n",
       "    .dataframe tbody tr th:only-of-type {\n",
       "        vertical-align: middle;\n",
       "    }\n",
       "\n",
       "    .dataframe tbody tr th {\n",
       "        vertical-align: top;\n",
       "    }\n",
       "\n",
       "    .dataframe thead th {\n",
       "        text-align: right;\n",
       "    }\n",
       "</style>\n",
       "<table border=\"1\" class=\"dataframe\">\n",
       "  <thead>\n",
       "    <tr style=\"text-align: right;\">\n",
       "      <th></th>\n",
       "      <th>category</th>\n",
       "      <th>query1</th>\n",
       "      <th>query2</th>\n",
       "      <th>label</th>\n",
       "    </tr>\n",
       "  </thead>\n",
       "  <tbody>\n",
       "    <tr>\n",
       "      <th>0</th>\n",
       "      <td>咳血</td>\n",
       "      <td>剧烈运动后咯血,是怎么了?</td>\n",
       "      <td>剧烈运动后咯血是什么原因？</td>\n",
       "      <td>1.0</td>\n",
       "    </tr>\n",
       "    <tr>\n",
       "      <th>1</th>\n",
       "      <td>咳血</td>\n",
       "      <td>剧烈运动后咯血,是怎么了?</td>\n",
       "      <td>剧烈运动后为什么会咯血？</td>\n",
       "      <td>1.0</td>\n",
       "    </tr>\n",
       "    <tr>\n",
       "      <th>2</th>\n",
       "      <td>咳血</td>\n",
       "      <td>剧烈运动后咯血,是怎么了?</td>\n",
       "      <td>剧烈运动后咯血，应该怎么处理？</td>\n",
       "      <td>0.0</td>\n",
       "    </tr>\n",
       "    <tr>\n",
       "      <th>3</th>\n",
       "      <td>咳血</td>\n",
       "      <td>剧烈运动后咯血,是怎么了?</td>\n",
       "      <td>剧烈运动后咯血，需要就医吗？</td>\n",
       "      <td>0.0</td>\n",
       "    </tr>\n",
       "    <tr>\n",
       "      <th>4</th>\n",
       "      <td>咳血</td>\n",
       "      <td>剧烈运动后咯血,是怎么了?</td>\n",
       "      <td>剧烈运动后咯血，是否很严重？</td>\n",
       "      <td>0.0</td>\n",
       "    </tr>\n",
       "  </tbody>\n",
       "</table>\n",
       "</div>"
      ],
      "text/plain": [
       "  category         query1           query2  label\n",
       "0       咳血  剧烈运动后咯血,是怎么了?    剧烈运动后咯血是什么原因？    1.0\n",
       "1       咳血  剧烈运动后咯血,是怎么了?     剧烈运动后为什么会咯血？    1.0\n",
       "2       咳血  剧烈运动后咯血,是怎么了?  剧烈运动后咯血，应该怎么处理？    0.0\n",
       "3       咳血  剧烈运动后咯血,是怎么了?   剧烈运动后咯血，需要就医吗？    0.0\n",
       "4       咳血  剧烈运动后咯血,是怎么了?   剧烈运动后咯血，是否很严重？    0.0"
      ]
     },
     "execution_count": 47,
     "metadata": {},
     "output_type": "execute_result"
    }
   ],
   "source": [
    "train_df = pd.read_csv('datasets/train.csv')\n",
    "dev_df = pd.read_csv('datasets/dev.csv')\n",
    "train_df.head()"
   ]
  },
  {
   "cell_type": "code",
   "execution_count": 48,
   "metadata": {
    "ExecuteTime": {
     "end_time": "2020-02-21T08:53:09.297263Z",
     "start_time": "2020-02-21T08:53:09.288260Z"
    }
   },
   "outputs": [
    {
     "data": {
      "text/html": [
       "<div>\n",
       "<style scoped>\n",
       "    .dataframe tbody tr th:only-of-type {\n",
       "        vertical-align: middle;\n",
       "    }\n",
       "\n",
       "    .dataframe tbody tr th {\n",
       "        vertical-align: top;\n",
       "    }\n",
       "\n",
       "    .dataframe thead th {\n",
       "        text-align: right;\n",
       "    }\n",
       "</style>\n",
       "<table border=\"1\" class=\"dataframe\">\n",
       "  <thead>\n",
       "    <tr style=\"text-align: right;\">\n",
       "      <th></th>\n",
       "      <th>category</th>\n",
       "      <th>query1</th>\n",
       "      <th>query2</th>\n",
       "      <th>label</th>\n",
       "    </tr>\n",
       "  </thead>\n",
       "  <tbody>\n",
       "    <tr>\n",
       "      <th>0</th>\n",
       "      <td>咳血</td>\n",
       "      <td>请问呕血与咯血有什么区别？</td>\n",
       "      <td>请问呕血与咯血这两者之间有什么区别？</td>\n",
       "      <td>1</td>\n",
       "    </tr>\n",
       "    <tr>\n",
       "      <th>1</th>\n",
       "      <td>咳血</td>\n",
       "      <td>请问呕血与咯血有什么区别？</td>\n",
       "      <td>请问呕血与咯血异同？</td>\n",
       "      <td>1</td>\n",
       "    </tr>\n",
       "    <tr>\n",
       "      <th>2</th>\n",
       "      <td>咳血</td>\n",
       "      <td>请问呕血与咯血有什么区别？</td>\n",
       "      <td>请问呕血与咯血怎么治疗？</td>\n",
       "      <td>0</td>\n",
       "    </tr>\n",
       "    <tr>\n",
       "      <th>3</th>\n",
       "      <td>咳血</td>\n",
       "      <td>请问呕血与咯血有什么区别？</td>\n",
       "      <td>请问呕血与咯血是什么原因导致的？</td>\n",
       "      <td>0</td>\n",
       "    </tr>\n",
       "    <tr>\n",
       "      <th>4</th>\n",
       "      <td>咳血</td>\n",
       "      <td>请问呕血与咯血有什么区别？</td>\n",
       "      <td>请问呕血与咯血与其他疾病有关联吗？</td>\n",
       "      <td>0</td>\n",
       "    </tr>\n",
       "  </tbody>\n",
       "</table>\n",
       "</div>"
      ],
      "text/plain": [
       "  category         query1              query2  label\n",
       "0       咳血  请问呕血与咯血有什么区别？  请问呕血与咯血这两者之间有什么区别？      1\n",
       "1       咳血  请问呕血与咯血有什么区别？          请问呕血与咯血异同？      1\n",
       "2       咳血  请问呕血与咯血有什么区别？        请问呕血与咯血怎么治疗？      0\n",
       "3       咳血  请问呕血与咯血有什么区别？    请问呕血与咯血是什么原因导致的？      0\n",
       "4       咳血  请问呕血与咯血有什么区别？   请问呕血与咯血与其他疾病有关联吗？      0"
      ]
     },
     "execution_count": 48,
     "metadata": {},
     "output_type": "execute_result"
    }
   ],
   "source": [
    "dev_df.head()"
   ]
  },
  {
   "cell_type": "code",
   "execution_count": 49,
   "metadata": {
    "ExecuteTime": {
     "end_time": "2020-02-21T08:53:10.016314Z",
     "start_time": "2020-02-21T08:53:10.011326Z"
    }
   },
   "outputs": [
    {
     "data": {
      "text/plain": [
       "((8753, 4), (2002, 4))"
      ]
     },
     "execution_count": 49,
     "metadata": {},
     "output_type": "execute_result"
    }
   ],
   "source": [
    "train_df.shape, dev_df.shape"
   ]
  },
  {
   "cell_type": "code",
   "execution_count": 53,
   "metadata": {
    "ExecuteTime": {
     "end_time": "2020-02-21T08:53:54.109552Z",
     "start_time": "2020-02-21T08:53:54.105563Z"
    }
   },
   "outputs": [],
   "source": [
    "def showNullRow(df):\n",
    "    print(\"%d rows contain null\" % np.sum(df.label.isnull().astype(int)))\n",
    "    print(df[train_df.label.isnull()])"
   ]
  },
  {
   "cell_type": "code",
   "execution_count": 54,
   "metadata": {
    "ExecuteTime": {
     "end_time": "2020-02-21T08:53:54.288080Z",
     "start_time": "2020-02-21T08:53:54.281097Z"
    }
   },
   "outputs": [
    {
     "name": "stdout",
     "output_type": "stream",
     "text": [
      "6 rows contain null\n",
      "     category          query1            query2  label\n",
      "350     支原体肺炎  小儿支原体肺炎怎样能彻底治愈      小儿支原体肺炎如何根治？    NaN\n",
      "351     支原体肺炎  小儿支原体肺炎怎样能彻底治愈  小儿支原体肺炎怎样可以彻底治好？    NaN\n",
      "352     支原体肺炎  小儿支原体肺炎怎样能彻底治愈     小孩支原体肺炎多久能痊愈？    NaN\n",
      "353     支原体肺炎  小儿支原体肺炎怎样能彻底治愈      如何诊断小儿支原体肺炎？    NaN\n",
      "354     支原体肺炎  小儿支原体肺炎怎样能彻底治愈     小儿支原体肺炎有哪些病症？    NaN\n",
      "8052       哮喘    请问，怎么可以治疗哮喘病        哮喘病发吃什么有效？    NaN\n"
     ]
    }
   ],
   "source": [
    "showNullRow(train_df)"
   ]
  },
  {
   "cell_type": "code",
   "execution_count": 56,
   "metadata": {
    "ExecuteTime": {
     "end_time": "2020-02-21T08:54:08.333723Z",
     "start_time": "2020-02-21T08:54:08.326742Z"
    },
    "scrolled": true
   },
   "outputs": [],
   "source": [
    "train_df = train_df.dropna()"
   ]
  },
  {
   "cell_type": "code",
   "execution_count": 57,
   "metadata": {
    "ExecuteTime": {
     "end_time": "2020-02-21T08:54:16.080011Z",
     "start_time": "2020-02-21T08:54:16.073028Z"
    }
   },
   "outputs": [
    {
     "name": "stdout",
     "output_type": "stream",
     "text": [
      "0 rows contain null\n",
      "Empty DataFrame\n",
      "Columns: [category, query1, query2, label]\n",
      "Index: []\n"
     ]
    }
   ],
   "source": [
    " showNullRow(train_df)"
   ]
  },
  {
   "cell_type": "code",
   "execution_count": 44,
   "metadata": {
    "ExecuteTime": {
     "end_time": "2020-02-21T08:51:54.572568Z",
     "start_time": "2020-02-21T08:51:54.568578Z"
    }
   },
   "outputs": [
    {
     "data": {
      "text/plain": [
       "(8747, 4)"
      ]
     },
     "execution_count": 44,
     "metadata": {},
     "output_type": "execute_result"
    }
   ],
   "source": [
    "train_df.shape"
   ]
  },
  {
   "cell_type": "code",
   "execution_count": 58,
   "metadata": {
    "ExecuteTime": {
     "end_time": "2020-02-21T08:54:40.141709Z",
     "start_time": "2020-02-21T08:54:40.135704Z"
    },
    "scrolled": true
   },
   "outputs": [
    {
     "data": {
      "text/plain": [
       "0.0    5250\n",
       "1.0    3497\n",
       "Name: label, dtype: int64"
      ]
     },
     "execution_count": 58,
     "metadata": {},
     "output_type": "execute_result"
    }
   ],
   "source": [
    "train_df.label.value_counts()"
   ]
  },
  {
   "cell_type": "code",
   "execution_count": null,
   "metadata": {},
   "outputs": [],
   "source": []
  }
 ],
 "metadata": {
  "kernelspec": {
   "display_name": "Python 3",
   "language": "python",
   "name": "python3"
  },
  "language_info": {
   "codemirror_mode": {
    "name": "ipython",
    "version": 3
   },
   "file_extension": ".py",
   "mimetype": "text/x-python",
   "name": "python",
   "nbconvert_exporter": "python",
   "pygments_lexer": "ipython3",
   "version": "3.7.3"
  },
  "toc": {
   "base_numbering": 1,
   "nav_menu": {},
   "number_sections": true,
   "sideBar": true,
   "skip_h1_title": false,
   "title_cell": "Table of Contents",
   "title_sidebar": "Contents",
   "toc_cell": false,
   "toc_position": {},
   "toc_section_display": true,
   "toc_window_display": false
  },
  "varInspector": {
   "cols": {
    "lenName": 16,
    "lenType": 16,
    "lenVar": 40
   },
   "kernels_config": {
    "python": {
     "delete_cmd_postfix": "",
     "delete_cmd_prefix": "del ",
     "library": "var_list.py",
     "varRefreshCmd": "print(var_dic_list())"
    },
    "r": {
     "delete_cmd_postfix": ") ",
     "delete_cmd_prefix": "rm(",
     "library": "var_list.r",
     "varRefreshCmd": "cat(var_dic_list()) "
    }
   },
   "types_to_exclude": [
    "module",
    "function",
    "builtin_function_or_method",
    "instance",
    "_Feature"
   ],
   "window_display": false
  }
 },
 "nbformat": 4,
 "nbformat_minor": 2
}
